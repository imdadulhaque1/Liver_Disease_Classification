{
 "cells": [
  {
   "cell_type": "markdown",
   "metadata": {},
   "source": [
    "# An overview of supervised classification techniques with case study :\n",
    "## Predicting liver disease from data"
   ]
  },
  {
   "cell_type": "markdown",
   "metadata": {},
   "source": [
    "## Introduction\n",
    "\n",
    "We will go through the entire data pipeline from data cleaning, preprocessing, staging and modelling on a relatively small dataset (~600 entries). On our way, we will compare different machine learning models and try to measure their performance using various metrics.\n",
    "\n"
   ]
  },
  {
   "cell_type": "markdown",
   "metadata": {},
   "source": [
    "## Dataset\n",
    "\n",
    "The dataset for this problem is the ILPD (Indian Liver Patient Dataset) taken from the UCI Machine Learning Repository (URL https://archive.ics.uci.edu/ml/datasets/ILPD+(Indian+Liver+Patient+Dataset) ). Number of instances are 583. It is a multivariate data set, contain 10 variables that are age, gender, total Bilirubin, direct Bilirubin, total proteins, albumin, A/G ratio, SGPT, SGOT and Alkphos. All values are real integers. This data set contains 416 liver patient records and 167 non liver patient records.The data set was collected from north east of Andhra Pradesh, India. Selector is a class label used to divide into groups(liver patient or not). This data set contains 441 male patient records and 142 female patient records. Any patient whose age exceeded 89 is listed as being of age \"90\"."
   ]
  },
  {
   "cell_type": "markdown",
   "metadata": {},
   "source": [
    "----\n",
    "## Reading Data\n",
    "Below, we will load the ILPD data. "
   ]
  },
  {
   "cell_type": "code",
   "execution_count": 1,
   "metadata": {},
   "outputs": [],
   "source": [
    "import matplotlib.pyplot as plt"
   ]
  },
  {
   "cell_type": "code",
   "execution_count": 2,
   "metadata": {},
   "outputs": [
    {
     "name": "stdout",
     "output_type": "stream",
     "text": [
      "No of samples: 582. No of features in each sample: 11 .\n"
     ]
    },
    {
     "data": {
      "text/html": [
       "<div>\n",
       "<style scoped>\n",
       "    .dataframe tbody tr th:only-of-type {\n",
       "        vertical-align: middle;\n",
       "    }\n",
       "\n",
       "    .dataframe tbody tr th {\n",
       "        vertical-align: top;\n",
       "    }\n",
       "\n",
       "    .dataframe thead th {\n",
       "        text-align: right;\n",
       "    }\n",
       "</style>\n",
       "<table border=\"1\" class=\"dataframe\">\n",
       "  <thead>\n",
       "    <tr style=\"text-align: right;\">\n",
       "      <th></th>\n",
       "      <th>65</th>\n",
       "      <th>Female</th>\n",
       "      <th>0.7</th>\n",
       "      <th>0.1</th>\n",
       "      <th>187</th>\n",
       "      <th>16</th>\n",
       "      <th>18</th>\n",
       "      <th>6.8</th>\n",
       "      <th>3.3</th>\n",
       "      <th>0.9</th>\n",
       "      <th>1</th>\n",
       "    </tr>\n",
       "  </thead>\n",
       "  <tbody>\n",
       "    <tr>\n",
       "      <th>0</th>\n",
       "      <td>62</td>\n",
       "      <td>Male</td>\n",
       "      <td>10.9</td>\n",
       "      <td>5.5</td>\n",
       "      <td>699</td>\n",
       "      <td>64</td>\n",
       "      <td>100</td>\n",
       "      <td>7.5</td>\n",
       "      <td>3.2</td>\n",
       "      <td>0.74</td>\n",
       "      <td>1</td>\n",
       "    </tr>\n",
       "    <tr>\n",
       "      <th>1</th>\n",
       "      <td>62</td>\n",
       "      <td>Male</td>\n",
       "      <td>7.3</td>\n",
       "      <td>4.1</td>\n",
       "      <td>490</td>\n",
       "      <td>60</td>\n",
       "      <td>68</td>\n",
       "      <td>7.0</td>\n",
       "      <td>3.3</td>\n",
       "      <td>0.89</td>\n",
       "      <td>1</td>\n",
       "    </tr>\n",
       "    <tr>\n",
       "      <th>2</th>\n",
       "      <td>58</td>\n",
       "      <td>Male</td>\n",
       "      <td>1.0</td>\n",
       "      <td>0.4</td>\n",
       "      <td>182</td>\n",
       "      <td>14</td>\n",
       "      <td>20</td>\n",
       "      <td>6.8</td>\n",
       "      <td>3.4</td>\n",
       "      <td>1.00</td>\n",
       "      <td>1</td>\n",
       "    </tr>\n",
       "    <tr>\n",
       "      <th>3</th>\n",
       "      <td>72</td>\n",
       "      <td>Male</td>\n",
       "      <td>3.9</td>\n",
       "      <td>2.0</td>\n",
       "      <td>195</td>\n",
       "      <td>27</td>\n",
       "      <td>59</td>\n",
       "      <td>7.3</td>\n",
       "      <td>2.4</td>\n",
       "      <td>0.40</td>\n",
       "      <td>1</td>\n",
       "    </tr>\n",
       "    <tr>\n",
       "      <th>4</th>\n",
       "      <td>46</td>\n",
       "      <td>Male</td>\n",
       "      <td>1.8</td>\n",
       "      <td>0.7</td>\n",
       "      <td>208</td>\n",
       "      <td>19</td>\n",
       "      <td>14</td>\n",
       "      <td>7.6</td>\n",
       "      <td>4.4</td>\n",
       "      <td>1.30</td>\n",
       "      <td>1</td>\n",
       "    </tr>\n",
       "  </tbody>\n",
       "</table>\n",
       "</div>"
      ],
      "text/plain": [
       "   65 Female   0.7  0.1  187  16   18  6.8  3.3   0.9  1\n",
       "0  62   Male  10.9  5.5  699  64  100  7.5  3.2  0.74  1\n",
       "1  62   Male   7.3  4.1  490  60   68  7.0  3.3  0.89  1\n",
       "2  58   Male   1.0  0.4  182  14   20  6.8  3.4  1.00  1\n",
       "3  72   Male   3.9  2.0  195  27   59  7.3  2.4  0.40  1\n",
       "4  46   Male   1.8  0.7  208  19   14  7.6  4.4  1.30  1"
      ]
     },
     "execution_count": 2,
     "metadata": {},
     "output_type": "execute_result"
    }
   ],
   "source": [
    "# We will need following libraries\n",
    "import numpy as np\n",
    "import pandas as pd\n",
    "\n",
    "# Loading the ILPD dataset\n",
    "df = pd.read_csv(\"ILPD.csv\")\n",
    "\n",
    "print (f\"No of samples: {df.shape[0]}. No of features in each sample: {df.shape[1]} .\")\n",
    "# Display the first  5 records\n",
    "df.head()\n",
    "\n"
   ]
  },
  {
   "cell_type": "markdown",
   "metadata": {},
   "source": [
    " As you can see above, the raw dataset does not have any column headings. So, we will manually add the headings taken from the URL mentioned above."
   ]
  },
  {
   "cell_type": "code",
   "execution_count": 3,
   "metadata": {},
   "outputs": [],
   "source": [
    "headings = ['Age','Gender','Total Bilirubin','Direct Bilirubin','Total Proteins','Albumin',\n",
    "            'A/G ratio','SGPT','SGOT','Alkphos','Disease']\n",
    "df = pd.read_csv(\"ILPD.csv\", names = headings)"
   ]
  },
  {
   "cell_type": "code",
   "execution_count": 4,
   "metadata": {},
   "outputs": [
    {
     "data": {
      "text/html": [
       "<div>\n",
       "<style scoped>\n",
       "    .dataframe tbody tr th:only-of-type {\n",
       "        vertical-align: middle;\n",
       "    }\n",
       "\n",
       "    .dataframe tbody tr th {\n",
       "        vertical-align: top;\n",
       "    }\n",
       "\n",
       "    .dataframe thead th {\n",
       "        text-align: right;\n",
       "    }\n",
       "</style>\n",
       "<table border=\"1\" class=\"dataframe\">\n",
       "  <thead>\n",
       "    <tr style=\"text-align: right;\">\n",
       "      <th></th>\n",
       "      <th>Age</th>\n",
       "      <th>Gender</th>\n",
       "      <th>Total Bilirubin</th>\n",
       "      <th>Direct Bilirubin</th>\n",
       "      <th>Total Proteins</th>\n",
       "      <th>Albumin</th>\n",
       "      <th>A/G ratio</th>\n",
       "      <th>SGPT</th>\n",
       "      <th>SGOT</th>\n",
       "      <th>Alkphos</th>\n",
       "      <th>Disease</th>\n",
       "    </tr>\n",
       "  </thead>\n",
       "  <tbody>\n",
       "    <tr>\n",
       "      <th>0</th>\n",
       "      <td>65</td>\n",
       "      <td>Female</td>\n",
       "      <td>0.7</td>\n",
       "      <td>0.1</td>\n",
       "      <td>187</td>\n",
       "      <td>16</td>\n",
       "      <td>18</td>\n",
       "      <td>6.8</td>\n",
       "      <td>3.3</td>\n",
       "      <td>0.90</td>\n",
       "      <td>1</td>\n",
       "    </tr>\n",
       "    <tr>\n",
       "      <th>1</th>\n",
       "      <td>62</td>\n",
       "      <td>Male</td>\n",
       "      <td>10.9</td>\n",
       "      <td>5.5</td>\n",
       "      <td>699</td>\n",
       "      <td>64</td>\n",
       "      <td>100</td>\n",
       "      <td>7.5</td>\n",
       "      <td>3.2</td>\n",
       "      <td>0.74</td>\n",
       "      <td>1</td>\n",
       "    </tr>\n",
       "    <tr>\n",
       "      <th>2</th>\n",
       "      <td>62</td>\n",
       "      <td>Male</td>\n",
       "      <td>7.3</td>\n",
       "      <td>4.1</td>\n",
       "      <td>490</td>\n",
       "      <td>60</td>\n",
       "      <td>68</td>\n",
       "      <td>7.0</td>\n",
       "      <td>3.3</td>\n",
       "      <td>0.89</td>\n",
       "      <td>1</td>\n",
       "    </tr>\n",
       "    <tr>\n",
       "      <th>3</th>\n",
       "      <td>58</td>\n",
       "      <td>Male</td>\n",
       "      <td>1.0</td>\n",
       "      <td>0.4</td>\n",
       "      <td>182</td>\n",
       "      <td>14</td>\n",
       "      <td>20</td>\n",
       "      <td>6.8</td>\n",
       "      <td>3.4</td>\n",
       "      <td>1.00</td>\n",
       "      <td>1</td>\n",
       "    </tr>\n",
       "    <tr>\n",
       "      <th>4</th>\n",
       "      <td>72</td>\n",
       "      <td>Male</td>\n",
       "      <td>3.9</td>\n",
       "      <td>2.0</td>\n",
       "      <td>195</td>\n",
       "      <td>27</td>\n",
       "      <td>59</td>\n",
       "      <td>7.3</td>\n",
       "      <td>2.4</td>\n",
       "      <td>0.40</td>\n",
       "      <td>1</td>\n",
       "    </tr>\n",
       "  </tbody>\n",
       "</table>\n",
       "</div>"
      ],
      "text/plain": [
       "   Age  Gender  Total Bilirubin  Direct Bilirubin  Total Proteins  Albumin  \\\n",
       "0   65  Female              0.7               0.1             187       16   \n",
       "1   62    Male             10.9               5.5             699       64   \n",
       "2   62    Male              7.3               4.1             490       60   \n",
       "3   58    Male              1.0               0.4             182       14   \n",
       "4   72    Male              3.9               2.0             195       27   \n",
       "\n",
       "   A/G ratio  SGPT  SGOT  Alkphos  Disease  \n",
       "0         18   6.8   3.3     0.90        1  \n",
       "1        100   7.5   3.2     0.74        1  \n",
       "2         68   7.0   3.3     0.89        1  \n",
       "3         20   6.8   3.4     1.00        1  \n",
       "4         59   7.3   2.4     0.40        1  "
      ]
     },
     "execution_count": 4,
     "metadata": {},
     "output_type": "execute_result"
    }
   ],
   "source": [
    "# The last column - 'Disease', contains the labels\n",
    "df.head()"
   ]
  },
  {
   "cell_type": "markdown",
   "metadata": {},
   "source": [
    "----\n",
    "## Preprocessing Data\n"
   ]
  },
  {
   "cell_type": "markdown",
   "metadata": {},
   "source": [
    "### 1. Removing duplicates\n",
    "Duplicates rows can be present in data due to various reasons. The question about whether duplicates should be removed or not depends on the particular problem setting and context. For example - In linear regression, if you have duplicate rows, then the underlying assumption about standard error terms being uncorrelated will be violated, which will lead our model to underestimate the actual standard errors. Thus, duplicates must be removed in that case.\n",
    "\n",
    "In our case, removing duplicates makes sense, as most likely it is possible that someone entered the data for a patient multiple times."
   ]
  },
  {
   "cell_type": "code",
   "execution_count": 5,
   "metadata": {},
   "outputs": [
    {
     "data": {
      "text/plain": [
       "(583, 11)"
      ]
     },
     "execution_count": 5,
     "metadata": {},
     "output_type": "execute_result"
    }
   ],
   "source": [
    "df.shape # rows, columns of original dataset"
   ]
  },
  {
   "cell_type": "code",
   "execution_count": 6,
   "metadata": {
    "scrolled": true
   },
   "outputs": [
    {
     "data": {
      "text/html": [
       "<div>\n",
       "<style scoped>\n",
       "    .dataframe tbody tr th:only-of-type {\n",
       "        vertical-align: middle;\n",
       "    }\n",
       "\n",
       "    .dataframe tbody tr th {\n",
       "        vertical-align: top;\n",
       "    }\n",
       "\n",
       "    .dataframe thead th {\n",
       "        text-align: right;\n",
       "    }\n",
       "</style>\n",
       "<table border=\"1\" class=\"dataframe\">\n",
       "  <thead>\n",
       "    <tr style=\"text-align: right;\">\n",
       "      <th></th>\n",
       "      <th>Age</th>\n",
       "      <th>Gender</th>\n",
       "      <th>Total Bilirubin</th>\n",
       "      <th>Direct Bilirubin</th>\n",
       "      <th>Total Proteins</th>\n",
       "      <th>Albumin</th>\n",
       "      <th>A/G ratio</th>\n",
       "      <th>SGPT</th>\n",
       "      <th>SGOT</th>\n",
       "      <th>Alkphos</th>\n",
       "      <th>Disease</th>\n",
       "    </tr>\n",
       "  </thead>\n",
       "  <tbody>\n",
       "    <tr>\n",
       "      <th>18</th>\n",
       "      <td>40</td>\n",
       "      <td>Female</td>\n",
       "      <td>0.9</td>\n",
       "      <td>0.3</td>\n",
       "      <td>293</td>\n",
       "      <td>232</td>\n",
       "      <td>245</td>\n",
       "      <td>6.8</td>\n",
       "      <td>3.1</td>\n",
       "      <td>0.80</td>\n",
       "      <td>1</td>\n",
       "    </tr>\n",
       "    <tr>\n",
       "      <th>19</th>\n",
       "      <td>40</td>\n",
       "      <td>Female</td>\n",
       "      <td>0.9</td>\n",
       "      <td>0.3</td>\n",
       "      <td>293</td>\n",
       "      <td>232</td>\n",
       "      <td>245</td>\n",
       "      <td>6.8</td>\n",
       "      <td>3.1</td>\n",
       "      <td>0.80</td>\n",
       "      <td>1</td>\n",
       "    </tr>\n",
       "    <tr>\n",
       "      <th>25</th>\n",
       "      <td>34</td>\n",
       "      <td>Male</td>\n",
       "      <td>4.1</td>\n",
       "      <td>2.0</td>\n",
       "      <td>289</td>\n",
       "      <td>875</td>\n",
       "      <td>731</td>\n",
       "      <td>5.0</td>\n",
       "      <td>2.7</td>\n",
       "      <td>1.10</td>\n",
       "      <td>1</td>\n",
       "    </tr>\n",
       "    <tr>\n",
       "      <th>26</th>\n",
       "      <td>34</td>\n",
       "      <td>Male</td>\n",
       "      <td>4.1</td>\n",
       "      <td>2.0</td>\n",
       "      <td>289</td>\n",
       "      <td>875</td>\n",
       "      <td>731</td>\n",
       "      <td>5.0</td>\n",
       "      <td>2.7</td>\n",
       "      <td>1.10</td>\n",
       "      <td>1</td>\n",
       "    </tr>\n",
       "    <tr>\n",
       "      <th>33</th>\n",
       "      <td>38</td>\n",
       "      <td>Female</td>\n",
       "      <td>2.6</td>\n",
       "      <td>1.2</td>\n",
       "      <td>410</td>\n",
       "      <td>59</td>\n",
       "      <td>57</td>\n",
       "      <td>5.6</td>\n",
       "      <td>3.0</td>\n",
       "      <td>0.80</td>\n",
       "      <td>2</td>\n",
       "    </tr>\n",
       "    <tr>\n",
       "      <th>34</th>\n",
       "      <td>38</td>\n",
       "      <td>Female</td>\n",
       "      <td>2.6</td>\n",
       "      <td>1.2</td>\n",
       "      <td>410</td>\n",
       "      <td>59</td>\n",
       "      <td>57</td>\n",
       "      <td>5.6</td>\n",
       "      <td>3.0</td>\n",
       "      <td>0.80</td>\n",
       "      <td>2</td>\n",
       "    </tr>\n",
       "    <tr>\n",
       "      <th>54</th>\n",
       "      <td>42</td>\n",
       "      <td>Male</td>\n",
       "      <td>8.9</td>\n",
       "      <td>4.5</td>\n",
       "      <td>272</td>\n",
       "      <td>31</td>\n",
       "      <td>61</td>\n",
       "      <td>5.8</td>\n",
       "      <td>2.0</td>\n",
       "      <td>0.50</td>\n",
       "      <td>1</td>\n",
       "    </tr>\n",
       "    <tr>\n",
       "      <th>55</th>\n",
       "      <td>42</td>\n",
       "      <td>Male</td>\n",
       "      <td>8.9</td>\n",
       "      <td>4.5</td>\n",
       "      <td>272</td>\n",
       "      <td>31</td>\n",
       "      <td>61</td>\n",
       "      <td>5.8</td>\n",
       "      <td>2.0</td>\n",
       "      <td>0.50</td>\n",
       "      <td>1</td>\n",
       "    </tr>\n",
       "    <tr>\n",
       "      <th>61</th>\n",
       "      <td>58</td>\n",
       "      <td>Male</td>\n",
       "      <td>1.0</td>\n",
       "      <td>0.5</td>\n",
       "      <td>158</td>\n",
       "      <td>37</td>\n",
       "      <td>43</td>\n",
       "      <td>7.2</td>\n",
       "      <td>3.6</td>\n",
       "      <td>1.00</td>\n",
       "      <td>1</td>\n",
       "    </tr>\n",
       "    <tr>\n",
       "      <th>62</th>\n",
       "      <td>58</td>\n",
       "      <td>Male</td>\n",
       "      <td>1.0</td>\n",
       "      <td>0.5</td>\n",
       "      <td>158</td>\n",
       "      <td>37</td>\n",
       "      <td>43</td>\n",
       "      <td>7.2</td>\n",
       "      <td>3.6</td>\n",
       "      <td>1.00</td>\n",
       "      <td>1</td>\n",
       "    </tr>\n",
       "    <tr>\n",
       "      <th>105</th>\n",
       "      <td>36</td>\n",
       "      <td>Male</td>\n",
       "      <td>5.3</td>\n",
       "      <td>2.3</td>\n",
       "      <td>145</td>\n",
       "      <td>32</td>\n",
       "      <td>92</td>\n",
       "      <td>5.1</td>\n",
       "      <td>2.6</td>\n",
       "      <td>1.00</td>\n",
       "      <td>2</td>\n",
       "    </tr>\n",
       "    <tr>\n",
       "      <th>106</th>\n",
       "      <td>36</td>\n",
       "      <td>Male</td>\n",
       "      <td>5.3</td>\n",
       "      <td>2.3</td>\n",
       "      <td>145</td>\n",
       "      <td>32</td>\n",
       "      <td>92</td>\n",
       "      <td>5.1</td>\n",
       "      <td>2.6</td>\n",
       "      <td>1.00</td>\n",
       "      <td>2</td>\n",
       "    </tr>\n",
       "    <tr>\n",
       "      <th>107</th>\n",
       "      <td>36</td>\n",
       "      <td>Male</td>\n",
       "      <td>0.8</td>\n",
       "      <td>0.2</td>\n",
       "      <td>158</td>\n",
       "      <td>29</td>\n",
       "      <td>39</td>\n",
       "      <td>6.0</td>\n",
       "      <td>2.2</td>\n",
       "      <td>0.50</td>\n",
       "      <td>2</td>\n",
       "    </tr>\n",
       "    <tr>\n",
       "      <th>108</th>\n",
       "      <td>36</td>\n",
       "      <td>Male</td>\n",
       "      <td>0.8</td>\n",
       "      <td>0.2</td>\n",
       "      <td>158</td>\n",
       "      <td>29</td>\n",
       "      <td>39</td>\n",
       "      <td>6.0</td>\n",
       "      <td>2.2</td>\n",
       "      <td>0.50</td>\n",
       "      <td>2</td>\n",
       "    </tr>\n",
       "    <tr>\n",
       "      <th>137</th>\n",
       "      <td>18</td>\n",
       "      <td>Male</td>\n",
       "      <td>0.8</td>\n",
       "      <td>0.2</td>\n",
       "      <td>282</td>\n",
       "      <td>72</td>\n",
       "      <td>140</td>\n",
       "      <td>5.5</td>\n",
       "      <td>2.5</td>\n",
       "      <td>0.80</td>\n",
       "      <td>1</td>\n",
       "    </tr>\n",
       "    <tr>\n",
       "      <th>138</th>\n",
       "      <td>18</td>\n",
       "      <td>Male</td>\n",
       "      <td>0.8</td>\n",
       "      <td>0.2</td>\n",
       "      <td>282</td>\n",
       "      <td>72</td>\n",
       "      <td>140</td>\n",
       "      <td>5.5</td>\n",
       "      <td>2.5</td>\n",
       "      <td>0.80</td>\n",
       "      <td>1</td>\n",
       "    </tr>\n",
       "    <tr>\n",
       "      <th>142</th>\n",
       "      <td>30</td>\n",
       "      <td>Male</td>\n",
       "      <td>1.6</td>\n",
       "      <td>0.4</td>\n",
       "      <td>332</td>\n",
       "      <td>84</td>\n",
       "      <td>139</td>\n",
       "      <td>5.6</td>\n",
       "      <td>2.7</td>\n",
       "      <td>0.90</td>\n",
       "      <td>1</td>\n",
       "    </tr>\n",
       "    <tr>\n",
       "      <th>143</th>\n",
       "      <td>30</td>\n",
       "      <td>Male</td>\n",
       "      <td>1.6</td>\n",
       "      <td>0.4</td>\n",
       "      <td>332</td>\n",
       "      <td>84</td>\n",
       "      <td>139</td>\n",
       "      <td>5.6</td>\n",
       "      <td>2.7</td>\n",
       "      <td>0.90</td>\n",
       "      <td>1</td>\n",
       "    </tr>\n",
       "    <tr>\n",
       "      <th>157</th>\n",
       "      <td>72</td>\n",
       "      <td>Male</td>\n",
       "      <td>0.7</td>\n",
       "      <td>0.1</td>\n",
       "      <td>196</td>\n",
       "      <td>20</td>\n",
       "      <td>35</td>\n",
       "      <td>5.8</td>\n",
       "      <td>2.0</td>\n",
       "      <td>0.50</td>\n",
       "      <td>1</td>\n",
       "    </tr>\n",
       "    <tr>\n",
       "      <th>158</th>\n",
       "      <td>72</td>\n",
       "      <td>Male</td>\n",
       "      <td>0.7</td>\n",
       "      <td>0.1</td>\n",
       "      <td>196</td>\n",
       "      <td>20</td>\n",
       "      <td>35</td>\n",
       "      <td>5.8</td>\n",
       "      <td>2.0</td>\n",
       "      <td>0.50</td>\n",
       "      <td>1</td>\n",
       "    </tr>\n",
       "    <tr>\n",
       "      <th>163</th>\n",
       "      <td>39</td>\n",
       "      <td>Male</td>\n",
       "      <td>1.9</td>\n",
       "      <td>0.9</td>\n",
       "      <td>180</td>\n",
       "      <td>42</td>\n",
       "      <td>62</td>\n",
       "      <td>7.4</td>\n",
       "      <td>4.3</td>\n",
       "      <td>1.38</td>\n",
       "      <td>1</td>\n",
       "    </tr>\n",
       "    <tr>\n",
       "      <th>164</th>\n",
       "      <td>39</td>\n",
       "      <td>Male</td>\n",
       "      <td>1.9</td>\n",
       "      <td>0.9</td>\n",
       "      <td>180</td>\n",
       "      <td>42</td>\n",
       "      <td>62</td>\n",
       "      <td>7.4</td>\n",
       "      <td>4.3</td>\n",
       "      <td>1.38</td>\n",
       "      <td>1</td>\n",
       "    </tr>\n",
       "    <tr>\n",
       "      <th>173</th>\n",
       "      <td>31</td>\n",
       "      <td>Male</td>\n",
       "      <td>0.6</td>\n",
       "      <td>0.1</td>\n",
       "      <td>175</td>\n",
       "      <td>48</td>\n",
       "      <td>34</td>\n",
       "      <td>6.0</td>\n",
       "      <td>3.7</td>\n",
       "      <td>1.60</td>\n",
       "      <td>1</td>\n",
       "    </tr>\n",
       "    <tr>\n",
       "      <th>174</th>\n",
       "      <td>31</td>\n",
       "      <td>Male</td>\n",
       "      <td>0.6</td>\n",
       "      <td>0.1</td>\n",
       "      <td>175</td>\n",
       "      <td>48</td>\n",
       "      <td>34</td>\n",
       "      <td>6.0</td>\n",
       "      <td>3.7</td>\n",
       "      <td>1.60</td>\n",
       "      <td>1</td>\n",
       "    </tr>\n",
       "    <tr>\n",
       "      <th>200</th>\n",
       "      <td>49</td>\n",
       "      <td>Male</td>\n",
       "      <td>0.6</td>\n",
       "      <td>0.1</td>\n",
       "      <td>218</td>\n",
       "      <td>50</td>\n",
       "      <td>53</td>\n",
       "      <td>5.0</td>\n",
       "      <td>2.4</td>\n",
       "      <td>0.90</td>\n",
       "      <td>1</td>\n",
       "    </tr>\n",
       "    <tr>\n",
       "      <th>201</th>\n",
       "      <td>49</td>\n",
       "      <td>Male</td>\n",
       "      <td>0.6</td>\n",
       "      <td>0.1</td>\n",
       "      <td>218</td>\n",
       "      <td>50</td>\n",
       "      <td>53</td>\n",
       "      <td>5.0</td>\n",
       "      <td>2.4</td>\n",
       "      <td>0.90</td>\n",
       "      <td>1</td>\n",
       "    </tr>\n",
       "  </tbody>\n",
       "</table>\n",
       "</div>"
      ],
      "text/plain": [
       "     Age  Gender  Total Bilirubin  Direct Bilirubin  Total Proteins  Albumin  \\\n",
       "18    40  Female              0.9               0.3             293      232   \n",
       "19    40  Female              0.9               0.3             293      232   \n",
       "25    34    Male              4.1               2.0             289      875   \n",
       "26    34    Male              4.1               2.0             289      875   \n",
       "33    38  Female              2.6               1.2             410       59   \n",
       "34    38  Female              2.6               1.2             410       59   \n",
       "54    42    Male              8.9               4.5             272       31   \n",
       "55    42    Male              8.9               4.5             272       31   \n",
       "61    58    Male              1.0               0.5             158       37   \n",
       "62    58    Male              1.0               0.5             158       37   \n",
       "105   36    Male              5.3               2.3             145       32   \n",
       "106   36    Male              5.3               2.3             145       32   \n",
       "107   36    Male              0.8               0.2             158       29   \n",
       "108   36    Male              0.8               0.2             158       29   \n",
       "137   18    Male              0.8               0.2             282       72   \n",
       "138   18    Male              0.8               0.2             282       72   \n",
       "142   30    Male              1.6               0.4             332       84   \n",
       "143   30    Male              1.6               0.4             332       84   \n",
       "157   72    Male              0.7               0.1             196       20   \n",
       "158   72    Male              0.7               0.1             196       20   \n",
       "163   39    Male              1.9               0.9             180       42   \n",
       "164   39    Male              1.9               0.9             180       42   \n",
       "173   31    Male              0.6               0.1             175       48   \n",
       "174   31    Male              0.6               0.1             175       48   \n",
       "200   49    Male              0.6               0.1             218       50   \n",
       "201   49    Male              0.6               0.1             218       50   \n",
       "\n",
       "     A/G ratio  SGPT  SGOT  Alkphos  Disease  \n",
       "18         245   6.8   3.1     0.80        1  \n",
       "19         245   6.8   3.1     0.80        1  \n",
       "25         731   5.0   2.7     1.10        1  \n",
       "26         731   5.0   2.7     1.10        1  \n",
       "33          57   5.6   3.0     0.80        2  \n",
       "34          57   5.6   3.0     0.80        2  \n",
       "54          61   5.8   2.0     0.50        1  \n",
       "55          61   5.8   2.0     0.50        1  \n",
       "61          43   7.2   3.6     1.00        1  \n",
       "62          43   7.2   3.6     1.00        1  \n",
       "105         92   5.1   2.6     1.00        2  \n",
       "106         92   5.1   2.6     1.00        2  \n",
       "107         39   6.0   2.2     0.50        2  \n",
       "108         39   6.0   2.2     0.50        2  \n",
       "137        140   5.5   2.5     0.80        1  \n",
       "138        140   5.5   2.5     0.80        1  \n",
       "142        139   5.6   2.7     0.90        1  \n",
       "143        139   5.6   2.7     0.90        1  \n",
       "157         35   5.8   2.0     0.50        1  \n",
       "158         35   5.8   2.0     0.50        1  \n",
       "163         62   7.4   4.3     1.38        1  \n",
       "164         62   7.4   4.3     1.38        1  \n",
       "173         34   6.0   3.7     1.60        1  \n",
       "174         34   6.0   3.7     1.60        1  \n",
       "200         53   5.0   2.4     0.90        1  \n",
       "201         53   5.0   2.4     0.90        1  "
      ]
     },
     "execution_count": 6,
     "metadata": {},
     "output_type": "execute_result"
    }
   ],
   "source": [
    "df_duplicate = df[df.duplicated(keep = False)] # keep = False gives you all rows with duplicate entries\n",
    "df_duplicate"
   ]
  },
  {
   "cell_type": "code",
   "execution_count": 7,
   "metadata": {},
   "outputs": [
    {
     "data": {
      "text/plain": [
       "(570, 11)"
      ]
     },
     "execution_count": 7,
     "metadata": {},
     "output_type": "execute_result"
    }
   ],
   "source": [
    "df = df[~df.duplicated(subset = None, keep = 'first')]\n",
    "# Here, keep = 'first' ensures that only the first row is taken into the final dataset.\n",
    "# The '~' sign tells pandas to keep all values except the 13 duplicate values\n",
    "df.shape"
   ]
  },
  {
   "cell_type": "markdown",
   "metadata": {},
   "source": [
    "### 2. Dealing with null values\n"
   ]
  },
  {
   "cell_type": "markdown",
   "metadata": {},
   "source": [
    "We will remove null values (or perform some kind of imputation) before running models on the data. We can use Imputer from sklearn.preprocessing or fillna() for this purpose."
   ]
  },
  {
   "cell_type": "code",
   "execution_count": 8,
   "metadata": {},
   "outputs": [
    {
     "name": "stdout",
     "output_type": "stream",
     "text": [
      "Age                 0\n",
      "Gender              0\n",
      "Total Bilirubin     0\n",
      "Direct Bilirubin    0\n",
      "Total Proteins      0\n",
      "Albumin             0\n",
      "A/G ratio           0\n",
      "SGPT                0\n",
      "SGOT                0\n",
      "Alkphos             4\n",
      "Disease             0\n",
      "dtype: int64\n"
     ]
    }
   ],
   "source": [
    "print(df.isnull().sum()) # display number of null values by column"
   ]
  },
  {
   "cell_type": "code",
   "execution_count": 9,
   "metadata": {},
   "outputs": [
    {
     "name": "stdout",
     "output_type": "stream",
     "text": [
      "length before removing NaN values:570\n",
      "length after removing NaN values:566\n"
     ]
    }
   ],
   "source": [
    "# We can see that the column 'Alkphos' has 4 missing values\n",
    "# One way to deal with them can be to just directly remove these 4 values\n",
    "print (\"length before removing NaN values:%d\"%len(df))\n",
    "df2 = df[pd.notnull(df['Alkphos'])]\n",
    "print (\"length after removing NaN values:%d\"%len(df2))"
   ]
  },
  {
   "cell_type": "markdown",
   "metadata": {},
   "source": [
    "Data imputation of missing values with a certain order statistic(mean, mode, median) can be done if sufficient context is available. For example - In our case, let us print those rows whose values of column 'Alkphos' are missing."
   ]
  },
  {
   "cell_type": "code",
   "execution_count": 10,
   "metadata": {},
   "outputs": [
    {
     "data": {
      "text/html": [
       "<div>\n",
       "<style scoped>\n",
       "    .dataframe tbody tr th:only-of-type {\n",
       "        vertical-align: middle;\n",
       "    }\n",
       "\n",
       "    .dataframe tbody tr th {\n",
       "        vertical-align: top;\n",
       "    }\n",
       "\n",
       "    .dataframe thead th {\n",
       "        text-align: right;\n",
       "    }\n",
       "</style>\n",
       "<table border=\"1\" class=\"dataframe\">\n",
       "  <thead>\n",
       "    <tr style=\"text-align: right;\">\n",
       "      <th></th>\n",
       "      <th>Age</th>\n",
       "      <th>Gender</th>\n",
       "      <th>Total Bilirubin</th>\n",
       "      <th>Direct Bilirubin</th>\n",
       "      <th>Total Proteins</th>\n",
       "      <th>Albumin</th>\n",
       "      <th>A/G ratio</th>\n",
       "      <th>SGPT</th>\n",
       "      <th>SGOT</th>\n",
       "      <th>Alkphos</th>\n",
       "      <th>Disease</th>\n",
       "    </tr>\n",
       "  </thead>\n",
       "  <tbody>\n",
       "    <tr>\n",
       "      <th>209</th>\n",
       "      <td>45</td>\n",
       "      <td>Female</td>\n",
       "      <td>0.9</td>\n",
       "      <td>0.3</td>\n",
       "      <td>189</td>\n",
       "      <td>23</td>\n",
       "      <td>33</td>\n",
       "      <td>6.6</td>\n",
       "      <td>3.9</td>\n",
       "      <td>NaN</td>\n",
       "      <td>1</td>\n",
       "    </tr>\n",
       "    <tr>\n",
       "      <th>241</th>\n",
       "      <td>51</td>\n",
       "      <td>Male</td>\n",
       "      <td>0.8</td>\n",
       "      <td>0.2</td>\n",
       "      <td>230</td>\n",
       "      <td>24</td>\n",
       "      <td>46</td>\n",
       "      <td>6.5</td>\n",
       "      <td>3.1</td>\n",
       "      <td>NaN</td>\n",
       "      <td>1</td>\n",
       "    </tr>\n",
       "    <tr>\n",
       "      <th>253</th>\n",
       "      <td>35</td>\n",
       "      <td>Female</td>\n",
       "      <td>0.6</td>\n",
       "      <td>0.2</td>\n",
       "      <td>180</td>\n",
       "      <td>12</td>\n",
       "      <td>15</td>\n",
       "      <td>5.2</td>\n",
       "      <td>2.7</td>\n",
       "      <td>NaN</td>\n",
       "      <td>2</td>\n",
       "    </tr>\n",
       "    <tr>\n",
       "      <th>312</th>\n",
       "      <td>27</td>\n",
       "      <td>Male</td>\n",
       "      <td>1.3</td>\n",
       "      <td>0.6</td>\n",
       "      <td>106</td>\n",
       "      <td>25</td>\n",
       "      <td>54</td>\n",
       "      <td>8.5</td>\n",
       "      <td>4.8</td>\n",
       "      <td>NaN</td>\n",
       "      <td>2</td>\n",
       "    </tr>\n",
       "  </tbody>\n",
       "</table>\n",
       "</div>"
      ],
      "text/plain": [
       "     Age  Gender  Total Bilirubin  Direct Bilirubin  Total Proteins  Albumin  \\\n",
       "209   45  Female              0.9               0.3             189       23   \n",
       "241   51    Male              0.8               0.2             230       24   \n",
       "253   35  Female              0.6               0.2             180       12   \n",
       "312   27    Male              1.3               0.6             106       25   \n",
       "\n",
       "     A/G ratio  SGPT  SGOT  Alkphos  Disease  \n",
       "209         33   6.6   3.9      NaN        1  \n",
       "241         46   6.5   3.1      NaN        1  \n",
       "253         15   5.2   2.7      NaN        2  \n",
       "312         54   8.5   4.8      NaN        2  "
      ]
     },
     "execution_count": 10,
     "metadata": {},
     "output_type": "execute_result"
    }
   ],
   "source": [
    "df[~pd.notnull(df['Alkphos'])]"
   ]
  },
  {
   "cell_type": "markdown",
   "metadata": {},
   "source": [
    "There is no homogeneity among patients at least in terms of age and gender, so it may be more difficult to impute a value in this case. Right now, just to show how imputation is done, we will substitute these values with the mode of 'Alkphos'. \n",
    "Later on, we can check the importance of the variable 'Alkphos' to see whether this column is significant enough to warrant an effort on trying different imputations."
   ]
  },
  {
   "cell_type": "code",
   "execution_count": 11,
   "metadata": {},
   "outputs": [
    {
     "data": {
      "text/plain": [
       "array([0.9 , 0.74, 0.89, 1.  , 0.4 , 1.3 , 1.1 , 1.2 , 0.8 , 0.6 , 0.87,\n",
       "       0.7 , 0.92, 0.55, 0.5 , 1.85, 0.95, 1.4 , 1.18, 0.61, 1.34, 1.39,\n",
       "       1.6 , 1.58, 1.25, 0.78, 0.76, 1.55, 0.71, 0.62, 0.67, 0.75, 1.16,\n",
       "       1.5 , 1.66, 0.96, 1.38, 0.52, 0.47, 0.93, 0.48, 0.58, 0.69, 1.27,\n",
       "       1.12, 1.06, 0.53, 1.03, 0.68, 1.9 , 1.7 , 1.8 , 0.3 , 0.97, 0.35,\n",
       "       1.51, 0.64, 0.45, 1.36, 0.88, 1.09, 1.11, 1.72, 2.8 , 0.46, 0.39,\n",
       "       1.02, 2.5 , 0.37])"
      ]
     },
     "execution_count": 11,
     "metadata": {},
     "output_type": "execute_result"
    }
   ],
   "source": [
    "df['Alkphos'] = df['Alkphos'].fillna(df['Alkphos'].mode().iloc[0])\n",
    "df['Alkphos'].unique()"
   ]
  },
  {
   "cell_type": "code",
   "execution_count": 12,
   "metadata": {
    "scrolled": true
   },
   "outputs": [
    {
     "data": {
      "text/plain": [
       "1.00    108\n",
       "0.80     62\n",
       "0.90     57\n",
       "0.70     53\n",
       "1.10     45\n",
       "1.20     35\n",
       "0.60     31\n",
       "0.50     26\n",
       "1.30     25\n",
       "1.40     17\n",
       "0.40     14\n",
       "1.50     10\n",
       "1.60      4\n",
       "1.70      4\n",
       "0.30      4\n",
       "0.75      4\n",
       "0.96      3\n",
       "1.80      3\n",
       "0.92      2\n",
       "1.16      2\n",
       "0.52      2\n",
       "0.47      2\n",
       "0.76      2\n",
       "0.93      2\n",
       "1.38      2\n",
       "2.50      2\n",
       "1.85      2\n",
       "1.34      2\n",
       "0.95      2\n",
       "1.06      2\n",
       "       ... \n",
       "0.48      1\n",
       "0.62      1\n",
       "1.12      1\n",
       "1.03      1\n",
       "0.53      1\n",
       "0.55      1\n",
       "0.46      1\n",
       "0.69      1\n",
       "1.25      1\n",
       "1.66      1\n",
       "1.55      1\n",
       "0.61      1\n",
       "0.39      1\n",
       "0.64      1\n",
       "0.78      1\n",
       "0.37      1\n",
       "1.27      1\n",
       "0.68      1\n",
       "0.67      1\n",
       "0.58      1\n",
       "1.11      1\n",
       "0.71      1\n",
       "1.72      1\n",
       "0.35      1\n",
       "0.45      1\n",
       "0.88      1\n",
       "1.02      1\n",
       "1.09      1\n",
       "0.89      1\n",
       "1.36      1\n",
       "Name: Alkphos, Length: 69, dtype: int64"
      ]
     },
     "execution_count": 12,
     "metadata": {},
     "output_type": "execute_result"
    }
   ],
   "source": [
    "df['Alkphos'].value_counts()# 1 actually occurs twice as more as the next frequent value, maybe this should give some\n",
    "#justification as to why the mode may be appropriate"
   ]
  },
  {
   "cell_type": "code",
   "execution_count": 13,
   "metadata": {},
   "outputs": [
    {
     "name": "stdout",
     "output_type": "stream",
     "text": [
      "0.96\n",
      "0.9483684210526314\n"
     ]
    }
   ],
   "source": [
    "print(df['Alkphos'].median()) # To check how different are mean and median from the mode in this particular case\n",
    "print(df['Alkphos'].mean()) # Use mean only if there are no outliers in your data"
   ]
  },
  {
   "cell_type": "markdown",
   "metadata": {},
   "source": [
    "On a closing note, one can also predict the missing values by using the portion of the dataset that has non-NaN entries for that column as a training set. This methods is not ideal however, if there is no correlation between the entries with missing values and the other entries, as this method will introduce an unnecessary bias in its predictions."
   ]
  },
  {
   "cell_type": "markdown",
   "metadata": {},
   "source": [
    "### 3. Outlier Detection"
   ]
  },
  {
   "cell_type": "markdown",
   "metadata": {},
   "source": [
    "Even before going to actual algorithms, we can do some outlier detection by applying filters to our data. Ex- We know that age cannot be negative.\n",
    "\n",
    "Here we will first use Isolation Forest, which is similar to Random Forest, for outlier detection. The basic premise behind this method is that an outlier is identified much quickly (i.e., in fewer splits) of a decision tree, compared to a normal data point. Thus the anomaly score for a point is directly proportional to the average of path lengths to isolate that point over several decision trees.\n"
   ]
  },
  {
   "cell_type": "code",
   "execution_count": 14,
   "metadata": {},
   "outputs": [
    {
     "name": "stderr",
     "output_type": "stream",
     "text": [
      "/srv/app/venv/lib/python3.6/site-packages/sklearn/ensemble/weight_boosting.py:29: DeprecationWarning: numpy.core.umath_tests is an internal NumPy module and should not be imported. It will be removed in a future NumPy release.\n",
      "  from numpy.core.umath_tests import inner1d\n"
     ]
    }
   ],
   "source": [
    "from sklearn.ensemble import IsolationForest"
   ]
  },
  {
   "cell_type": "code",
   "execution_count": 15,
   "metadata": {},
   "outputs": [],
   "source": [
    "clf = IsolationForest(max_samples=100, contamination = 0.01, random_state=7)\n",
    "# contamination indicates the percentage of outliers in the dataset (Key hyperparameter!)"
   ]
  },
  {
   "cell_type": "code",
   "execution_count": 16,
   "metadata": {},
   "outputs": [],
   "source": [
    "# Running outlier detection on column 'Albumin', A/G ratio'\n",
    "clf.fit(np.vstack((df['Albumin'].values, df['A/G ratio'].values)).T)# converting to np array and then passing as a 2-d array\n",
    "clf_pred = clf.predict(np.vstack((df['Albumin'].values, df['A/G ratio'].values)).T)\n"
   ]
  },
  {
   "cell_type": "code",
   "execution_count": 17,
   "metadata": {
    "scrolled": true
   },
   "outputs": [
    {
     "data": {
      "text/plain": [
       "array([ 1,  1,  1,  1,  1,  1,  1,  1,  1,  1,  1,  1,  1,  1,  1,  1,  1,\n",
       "        1,  1,  1,  1,  1,  1,  1,  1, -1,  1,  1,  1,  1,  1,  1,  1,  1,\n",
       "        1,  1,  1,  1,  1,  1,  1,  1,  1,  1, -1,  1,  1,  1,  1,  1,  1,\n",
       "        1,  1,  1,  1,  1,  1,  1,  1,  1,  1,  1,  1,  1,  1,  1,  1,  1,\n",
       "        1,  1,  1,  1,  1,  1,  1,  1,  1,  1,  1,  1,  1,  1,  1,  1,  1,\n",
       "        1,  1,  1,  1,  1,  1,  1,  1,  1,  1,  1,  1,  1,  1,  1,  1,  1,\n",
       "        1,  1,  1,  1,  1,  1,  1,  1, -1, -1,  1,  1,  1,  1,  1,  1,  1,\n",
       "        1,  1,  1,  1,  1,  1,  1,  1,  1, -1,  1,  1,  1,  1,  1,  1,  1,\n",
       "        1,  1,  1,  1,  1,  1,  1,  1,  1,  1,  1,  1,  1,  1,  1,  1,  1,\n",
       "        1,  1,  1,  1,  1,  1,  1,  1,  1,  1,  1,  1,  1,  1,  1,  1,  1,\n",
       "        1,  1,  1,  1,  1,  1,  1,  1,  1,  1,  1,  1,  1,  1,  1,  1,  1,\n",
       "        1,  1,  1,  1,  1,  1,  1, -1,  1,  1,  1,  1,  1,  1,  1,  1,  1,\n",
       "        1,  1,  1,  1,  1,  1,  1,  1,  1,  1,  1,  1,  1,  1,  1,  1,  1,\n",
       "        1,  1,  1,  1,  1,  1,  1,  1,  1,  1,  1,  1,  1,  1,  1,  1,  1,\n",
       "        1,  1,  1,  1,  1,  1,  1,  1,  1,  1,  1,  1,  1,  1,  1,  1,  1,\n",
       "        1,  1,  1,  1,  1,  1,  1,  1,  1,  1,  1,  1,  1,  1,  1,  1,  1,\n",
       "        1,  1,  1,  1,  1,  1,  1,  1,  1,  1,  1,  1,  1,  1,  1,  1,  1,\n",
       "        1,  1,  1,  1,  1,  1,  1,  1,  1,  1,  1,  1,  1,  1,  1,  1,  1,\n",
       "        1,  1,  1,  1,  1,  1,  1,  1,  1,  1,  1,  1,  1,  1,  1,  1,  1,\n",
       "        1,  1,  1,  1,  1,  1,  1,  1,  1,  1,  1,  1,  1,  1,  1,  1,  1,\n",
       "        1,  1,  1,  1,  1,  1,  1,  1,  1,  1,  1,  1,  1,  1,  1,  1,  1,\n",
       "        1,  1,  1,  1,  1,  1,  1,  1,  1,  1,  1,  1,  1,  1,  1,  1,  1,\n",
       "        1,  1,  1,  1,  1,  1,  1,  1,  1,  1,  1,  1,  1,  1,  1,  1,  1,\n",
       "        1,  1,  1,  1,  1,  1,  1,  1,  1,  1,  1,  1,  1,  1,  1,  1,  1,\n",
       "        1,  1,  1,  1,  1,  1,  1,  1,  1,  1,  1,  1,  1,  1,  1,  1,  1,\n",
       "        1,  1,  1,  1,  1,  1,  1,  1,  1,  1,  1,  1,  1,  1,  1,  1,  1,\n",
       "        1,  1,  1,  1,  1,  1,  1,  1,  1,  1,  1,  1,  1,  1,  1,  1,  1,\n",
       "        1,  1,  1,  1,  1,  1,  1,  1,  1,  1,  1,  1,  1,  1,  1,  1,  1,\n",
       "        1,  1,  1,  1,  1,  1,  1,  1,  1,  1,  1,  1,  1,  1,  1,  1,  1,\n",
       "        1,  1,  1,  1,  1,  1,  1,  1,  1,  1,  1,  1,  1,  1,  1,  1,  1,\n",
       "        1,  1,  1,  1,  1,  1,  1,  1,  1,  1,  1,  1,  1,  1,  1,  1,  1,\n",
       "        1,  1,  1,  1,  1,  1,  1,  1,  1,  1,  1,  1,  1,  1,  1,  1,  1,\n",
       "        1,  1,  1,  1,  1,  1,  1,  1,  1,  1,  1,  1,  1,  1,  1,  1,  1,\n",
       "        1,  1,  1,  1,  1,  1,  1,  1,  1])"
      ]
     },
     "execution_count": 17,
     "metadata": {},
     "output_type": "execute_result"
    }
   ],
   "source": [
    "clf_pred # - 1 means outliers"
   ]
  },
  {
   "cell_type": "code",
   "execution_count": 18,
   "metadata": {},
   "outputs": [],
   "source": [
    "colors = []\n",
    "for i in clf_pred:\n",
    "    if i == 1: colors.append('b')\n",
    "    else: colors.append('r')"
   ]
  },
  {
   "cell_type": "code",
   "execution_count": 19,
   "metadata": {},
   "outputs": [
    {
     "data": {
      "text/plain": [
       "<matplotlib.collections.PathCollection at 0x7f15e09b7dd8>"
      ]
     },
     "execution_count": 19,
     "metadata": {},
     "output_type": "execute_result"
    },
    {
     "data": {
      "image/png": "[encoded data removed]",
      "text/plain": [
       "<Figure size 432x288 with 1 Axes>"
      ]
     },
     "metadata": {
      "needs_background": "light"
     },
     "output_type": "display_data"
    }
   ],
   "source": [
    "plt.scatter(df['Albumin'].values, df['A/G ratio'].values, color = colors)# outliers are colored red"
   ]
  },
  {
   "cell_type": "markdown",
   "metadata": {},
   "source": [
    "Similarly one can run Isolation Forest on other pairs of columns and then manually inspect the outlier points.\n",
    "\n",
    "Another method that can be used from sklearn is covariance.EllipticEnvelope, which assumes that the data given to it has a Gaussian distribution and thus fits ellipsoids on it."
   ]
  },
  {
   "cell_type": "markdown",
   "metadata": {},
   "source": [
    "### 4. Log transform certain features\n",
    "After removing the column ‘Disease’ from the dataset as it is the label, we display all features in a histogram format to check if any feature has a skewed distribution. On those features, a log transformation is applied to reduce their range."
   ]
  },
  {
   "cell_type": "code",
   "execution_count": 20,
   "metadata": {
    "scrolled": true
   },
   "outputs": [
    {
     "data": {
      "text/plain": [
       "array([[<matplotlib.axes._subplots.AxesSubplot object at 0x7f15e0914a58>,\n",
       "        <matplotlib.axes._subplots.AxesSubplot object at 0x7f15e08de0b8>,\n",
       "        <matplotlib.axes._subplots.AxesSubplot object at 0x7f15e09055f8>],\n",
       "       [<matplotlib.axes._subplots.AxesSubplot object at 0x7f15e08aeb38>,\n",
       "        <matplotlib.axes._subplots.AxesSubplot object at 0x7f15e085d0f0>,\n",
       "        <matplotlib.axes._subplots.AxesSubplot object at 0x7f15e0885668>],\n",
       "       [<matplotlib.axes._subplots.AxesSubplot object at 0x7f15e082cbe0>,\n",
       "        <matplotlib.axes._subplots.AxesSubplot object at 0x7f15e07de1d0>,\n",
       "        <matplotlib.axes._subplots.AxesSubplot object at 0x7f15e07de208>]],\n",
       "      dtype=object)"
      ]
     },
     "execution_count": 20,
     "metadata": {},
     "output_type": "execute_result"
    },
    {
     "data": {
      "image/png": "[encoded data removed]",
      "text/plain": [
       "<Figure size 1008x576 with 9 Axes>"
      ]
     },
     "metadata": {
      "needs_background": "light"
     },
     "output_type": "display_data"
    }
   ],
   "source": [
    "# Split the data into features and target label(disease)\n",
    "disease_initial = df['Disease']\n",
    "features_initial = df.drop('Disease', axis = 1)\n",
    "\n",
    "# Visualize skewed continuous features of original data\n",
    "features_initial.hist(figsize=(14,8))"
   ]
  },
  {
   "cell_type": "code",
   "execution_count": 21,
   "metadata": {
    "scrolled": true
   },
   "outputs": [
    {
     "data": {
      "text/plain": [
       "array([[<matplotlib.axes._subplots.AxesSubplot object at 0x7f161d73d080>,\n",
       "        <matplotlib.axes._subplots.AxesSubplot object at 0x7f161c48f630>,\n",
       "        <matplotlib.axes._subplots.AxesSubplot object at 0x7f161c4b2ba8>],\n",
       "       [<matplotlib.axes._subplots.AxesSubplot object at 0x7f161c45f160>,\n",
       "        <matplotlib.axes._subplots.AxesSubplot object at 0x7f161c4066d8>,\n",
       "        <matplotlib.axes._subplots.AxesSubplot object at 0x7f161c42fc50>],\n",
       "       [<matplotlib.axes._subplots.AxesSubplot object at 0x7f161c3e1208>,\n",
       "        <matplotlib.axes._subplots.AxesSubplot object at 0x7f161c3857b8>,\n",
       "        <matplotlib.axes._subplots.AxesSubplot object at 0x7f161c3857f0>],\n",
       "       [<matplotlib.axes._subplots.AxesSubplot object at 0x7f161c35f2b0>,\n",
       "        <matplotlib.axes._subplots.AxesSubplot object at 0x7f161c306828>,\n",
       "        <matplotlib.axes._subplots.AxesSubplot object at 0x7f161c32dda0>]],\n",
       "      dtype=object)"
      ]
     },
     "execution_count": 21,
     "metadata": {},
     "output_type": "execute_result"
    },
    {
     "data": {
      "image/png": "[encoded data removed]",
      "text/plain": [
       "<Figure size 1008x720 with 12 Axes>"
      ]
     },
     "metadata": {
      "needs_background": "light"
     },
     "output_type": "display_data"
    }
   ],
   "source": [
    "# Skewed features are Albumin, Direct Bilirubin, A/G ratio, Tota Bilirubin, Total Protein \n",
    "#Log-transform the skewed features\n",
    "skewed = ['Albumin', 'Direct Bilirubin', 'Total Bilirubin', 'A/G ratio', 'Total Proteins']\n",
    "features_initial[skewed] = df[skewed].apply(lambda x: np.log(x + 1))\n",
    "df[skewed] = features_initial[skewed]\n",
    "# Visualize the new log distributions\n",
    "df.hist(figsize=(14,10))"
   ]
  },
  {
   "cell_type": "markdown",
   "metadata": {},
   "source": [
    "Additionally, if we need certain certain features to have a normal distribution, we can do that by using the PowerTransformer method in sklearn."
   ]
  },
  {
   "cell_type": "markdown",
   "metadata": {},
   "source": [
    "### 5. Scaling of features"
   ]
  },
  {
   "cell_type": "markdown",
   "metadata": {},
   "source": [
    "Standardization (subtracting mean and scaling variance) is required for many methods like regularized linear regression, K-NearestNeighbors. One can use following scaling methods - \n",
    "\n",
    "1. MinMaxScaler - It preserves zero entries if the feature matrix is sparse, and is also robust to small values of S.D. for features.\n",
    "\n",
    "2. StandardScaler - Center around zero, change variance to 1.\n",
    "\n",
    "3. RobustScaler - Useful if there are a lot of outliers in data, this method uses percentiles to center and scale data.\n",
    "\n",
    "Normalizing, on the other hand, causes one row of the input (one sample) to have unit norm. This is useful for Gram matrix entries in kernel methods.\n"
   ]
  },
  {
   "cell_type": "markdown",
   "metadata": {},
   "source": [
    "We use MinMaxScaler here as StandardScaler gives very low values, with some in the order of 10^-16, which might be difficult to relate to and visualize."
   ]
  },
  {
   "cell_type": "code",
   "execution_count": 22,
   "metadata": {
    "scrolled": true
   },
   "outputs": [
    {
     "data": {
      "text/html": [
       "<div>\n",
       "<style scoped>\n",
       "    .dataframe tbody tr th:only-of-type {\n",
       "        vertical-align: middle;\n",
       "    }\n",
       "\n",
       "    .dataframe tbody tr th {\n",
       "        vertical-align: top;\n",
       "    }\n",
       "\n",
       "    .dataframe thead th {\n",
       "        text-align: right;\n",
       "    }\n",
       "</style>\n",
       "<table border=\"1\" class=\"dataframe\">\n",
       "  <thead>\n",
       "    <tr style=\"text-align: right;\">\n",
       "      <th></th>\n",
       "      <th>Age</th>\n",
       "      <th>Total Bilirubin</th>\n",
       "      <th>Direct Bilirubin</th>\n",
       "      <th>Total Proteins</th>\n",
       "      <th>Albumin</th>\n",
       "      <th>A/G ratio</th>\n",
       "      <th>SGPT</th>\n",
       "      <th>SGOT</th>\n",
       "      <th>Alkphos</th>\n",
       "    </tr>\n",
       "  </thead>\n",
       "  <tbody>\n",
       "    <tr>\n",
       "      <th>count</th>\n",
       "      <td>570.000000</td>\n",
       "      <td>570.000000</td>\n",
       "      <td>570.000000</td>\n",
       "      <td>570.000000</td>\n",
       "      <td>570.000000</td>\n",
       "      <td>570.000000</td>\n",
       "      <td>570.000000</td>\n",
       "      <td>570.000000</td>\n",
       "      <td>570.000000</td>\n",
       "    </tr>\n",
       "    <tr>\n",
       "      <th>mean</th>\n",
       "      <td>0.474990</td>\n",
       "      <td>0.179828</td>\n",
       "      <td>0.175155</td>\n",
       "      <td>0.383482</td>\n",
       "      <td>0.264557</td>\n",
       "      <td>0.258082</td>\n",
       "      <td>0.550191</td>\n",
       "      <td>0.488902</td>\n",
       "      <td>0.259347</td>\n",
       "    </tr>\n",
       "    <tr>\n",
       "      <th>std</th>\n",
       "      <td>0.188863</td>\n",
       "      <td>0.185859</td>\n",
       "      <td>0.224849</td>\n",
       "      <td>0.151618</td>\n",
       "      <td>0.169167</td>\n",
       "      <td>0.160818</td>\n",
       "      <td>0.157725</td>\n",
       "      <td>0.173220</td>\n",
       "      <td>0.127416</td>\n",
       "    </tr>\n",
       "    <tr>\n",
       "      <th>min</th>\n",
       "      <td>0.000000</td>\n",
       "      <td>0.000000</td>\n",
       "      <td>0.000000</td>\n",
       "      <td>0.000000</td>\n",
       "      <td>0.000000</td>\n",
       "      <td>0.000000</td>\n",
       "      <td>0.000000</td>\n",
       "      <td>0.000000</td>\n",
       "      <td>0.000000</td>\n",
       "    </tr>\n",
       "    <tr>\n",
       "      <th>25%</th>\n",
       "      <td>0.337209</td>\n",
       "      <td>0.062919</td>\n",
       "      <td>0.029648</td>\n",
       "      <td>0.290977</td>\n",
       "      <td>0.149929</td>\n",
       "      <td>0.140897</td>\n",
       "      <td>0.449275</td>\n",
       "      <td>0.369565</td>\n",
       "      <td>0.160000</td>\n",
       "    </tr>\n",
       "    <tr>\n",
       "      <th>50%</th>\n",
       "      <td>0.476744</td>\n",
       "      <td>0.089297</td>\n",
       "      <td>0.056921</td>\n",
       "      <td>0.338512</td>\n",
       "      <td>0.227851</td>\n",
       "      <td>0.219448</td>\n",
       "      <td>0.565217</td>\n",
       "      <td>0.478261</td>\n",
       "      <td>0.264000</td>\n",
       "    </tr>\n",
       "    <tr>\n",
       "      <th>75%</th>\n",
       "      <td>0.627907</td>\n",
       "      <td>0.236455</td>\n",
       "      <td>0.251327</td>\n",
       "      <td>0.440946</td>\n",
       "      <td>0.329197</td>\n",
       "      <td>0.340134</td>\n",
       "      <td>0.652174</td>\n",
       "      <td>0.630435</td>\n",
       "      <td>0.320000</td>\n",
       "    </tr>\n",
       "    <tr>\n",
       "      <th>max</th>\n",
       "      <td>1.000000</td>\n",
       "      <td>1.000000</td>\n",
       "      <td>1.000000</td>\n",
       "      <td>1.000000</td>\n",
       "      <td>1.000000</td>\n",
       "      <td>1.000000</td>\n",
       "      <td>1.000000</td>\n",
       "      <td>1.000000</td>\n",
       "      <td>1.000000</td>\n",
       "    </tr>\n",
       "  </tbody>\n",
       "</table>\n",
       "</div>"
      ],
      "text/plain": [
       "              Age  Total Bilirubin  Direct Bilirubin  Total Proteins  \\\n",
       "count  570.000000       570.000000        570.000000      570.000000   \n",
       "mean     0.474990         0.179828          0.175155        0.383482   \n",
       "std      0.188863         0.185859          0.224849        0.151618   \n",
       "min      0.000000         0.000000          0.000000        0.000000   \n",
       "25%      0.337209         0.062919          0.029648        0.290977   \n",
       "50%      0.476744         0.089297          0.056921        0.338512   \n",
       "75%      0.627907         0.236455          0.251327        0.440946   \n",
       "max      1.000000         1.000000          1.000000        1.000000   \n",
       "\n",
       "          Albumin   A/G ratio        SGPT        SGOT     Alkphos  \n",
       "count  570.000000  570.000000  570.000000  570.000000  570.000000  \n",
       "mean     0.264557    0.258082    0.550191    0.488902    0.259347  \n",
       "std      0.169167    0.160818    0.157725    0.173220    0.127416  \n",
       "min      0.000000    0.000000    0.000000    0.000000    0.000000  \n",
       "25%      0.149929    0.140897    0.449275    0.369565    0.160000  \n",
       "50%      0.227851    0.219448    0.565217    0.478261    0.264000  \n",
       "75%      0.329197    0.340134    0.652174    0.630435    0.320000  \n",
       "max      1.000000    1.000000    1.000000    1.000000    1.000000  "
      ]
     },
     "metadata": {},
     "output_type": "display_data"
    }
   ],
   "source": [
    "from sklearn.preprocessing import MinMaxScaler\n",
    "\n",
    "# Initialize a scaler, then apply it to the features\n",
    "scaler = MinMaxScaler()\n",
    "\n",
    "normalized = ['Age', 'SGPT', 'SGOT', 'Alkphos', 'Albumin', 'Direct Bilirubin', 'Total Bilirubin', 'A/G ratio', 'Total Proteins']\n",
    "skewed = ['Albumin', 'Direct Bilirubin', 'Total Bilirubin', 'A/G ratio', 'Total Proteins']\n",
    "features_initial[normalized] = scaler.fit_transform(df[normalized])\n",
    "\n",
    "# Show an example of a record with scaling applied\n",
    "display(features_initial.describe())"
   ]
  },
  {
   "cell_type": "markdown",
   "metadata": {},
   "source": [
    "### 6. Dealing with categorical features\n",
    "One-hot encoding is a popular method that can be used when the different values of features do not have any inherent ordering.\n",
    "If we know of some ordering (such as a feature which has possible values 'Small', 'Medium', 'Large'), then using the method LabelEncoder can make more sense.\n",
    "Here we use pd.get_dummies() method to one-hot encode the feature ‘Gender’ as well as the label ‘Disease’ ( with the integer ‘1’ representing presence of disease).\n"
   ]
  },
  {
   "cell_type": "code",
   "execution_count": 23,
   "metadata": {
    "scrolled": true
   },
   "outputs": [
    {
     "name": "stdout",
     "output_type": "stream",
     "text": [
      "11 total features after one-hot encoding.\n",
      "['Age', 'Total Bilirubin', 'Direct Bilirubin', 'Total Proteins', 'Albumin', 'A/G ratio', 'SGPT', 'SGOT', 'Alkphos', 'Gender_Female', 'Gender_Male']\n",
      "2 disease columns after one-hot encoding.\n"
     ]
    }
   ],
   "source": [
    "# TODO: One-hot encode the data using pandas.get_dummies()\n",
    "features = pd.get_dummies(features_initial)\n",
    "\n",
    "encoded = list(features.columns)\n",
    "print (\"{} total features after one-hot encoding.\".format(len(encoded)))\n",
    "print (encoded)\n",
    "\n",
    "disease=pd.get_dummies(disease_initial)\n",
    "encoded = list(disease.columns)\n",
    "print (\"{} disease columns after one-hot encoding.\".format(len(encoded)))\n",
    "#print disease[1]\n"
   ]
  },
  {
   "cell_type": "code",
   "execution_count": 24,
   "metadata": {},
   "outputs": [
    {
     "name": "stdout",
     "output_type": "stream",
     "text": [
      "Training set has 456 samples.\n",
      "Testing set has 114 samples.\n"
     ]
    },
    {
     "name": "stderr",
     "output_type": "stream",
     "text": [
      "/srv/app/venv/lib/python3.6/site-packages/sklearn/cross_validation.py:41: DeprecationWarning: This module was deprecated in version 0.18 in favor of the model_selection module into which all the refactored classes and functions are moved. Also note that the interface of the new CV iterators are different from that of this module. This module will be removed in 0.20.\n",
      "  \"This module will be removed in 0.20.\", DeprecationWarning)\n"
     ]
    }
   ],
   "source": [
    "# Import train_test_split\n",
    "from sklearn.cross_validation import train_test_split, ShuffleSplit\n",
    "\n",
    "# Split the 'features' and 'income' data into training and testing sets\n",
    "X_train, X_test, y_train, y_test = train_test_split(features, disease[1], test_size = 0.2, random_state = 7)\n",
    "\n",
    "# Show the results of the split\n",
    "print (\"Training set has {} samples.\".format(X_train.shape[0]))\n",
    "print (\"Testing set has {} samples.\".format(X_test.shape[0]))"
   ]
  },
  {
   "cell_type": "markdown",
   "metadata": {},
   "source": [
    "## Modelling\n",
    "\n",
    "### 1. Baseline Predictor\n",
    "\n",
    "Before applying any supervised learning technique, we will implement a naïve predictor, that will simply return that every data point has ‘Disease’= True. We will check our metrics(accuracy, TPR, FPR) on that predictor.\n"
   ]
  },
  {
   "cell_type": "code",
   "execution_count": 25,
   "metadata": {},
   "outputs": [],
   "source": [
    "disease = disease[:][1] # disease means '1', healthy means '0'"
   ]
  },
  {
   "cell_type": "code",
   "execution_count": 26,
   "metadata": {
    "scrolled": true
   },
   "outputs": [
    {
     "name": "stdout",
     "output_type": "stream",
     "text": [
      "             precision    recall  f1-score   support\n",
      "\n",
      "      False       1.00      1.00      1.00       164\n",
      "       True       1.00      1.00      1.00       406\n",
      "\n",
      "avg / total       1.00      1.00      1.00       570\n",
      "\n"
     ]
    }
   ],
   "source": [
    "from sklearn.metrics import classification_report\n",
    "from sklearn.metrics import accuracy_score\n",
    "#naive accuracy, assuming that we predict everyone has disease\n",
    "positive_disease= (df['Disease'] == 1)\n",
    "positive_disease.astype(int) # convert boolean array to float\n",
    "report = classification_report(positive_disease, disease)\n",
    "print(report)"
   ]
  },
  {
   "cell_type": "markdown",
   "metadata": {},
   "source": [
    "### 2. Decision Trees"
   ]
  },
  {
   "cell_type": "code",
   "execution_count": 27,
   "metadata": {},
   "outputs": [],
   "source": [
    "from sklearn import tree\n",
    "from sklearn.tree import DecisionTreeClassifier"
   ]
  },
  {
   "cell_type": "code",
   "execution_count": 28,
   "metadata": {},
   "outputs": [
    {
     "data": {
      "text/plain": [
       "DecisionTreeClassifier(class_weight=None, criterion='gini', max_depth=None,\n",
       "            max_features=None, max_leaf_nodes=None,\n",
       "            min_impurity_decrease=0.0, min_impurity_split=None,\n",
       "            min_samples_leaf=1, min_samples_split=2,\n",
       "            min_weight_fraction_leaf=0.0, presort=False, random_state=None,\n",
       "            splitter='best')"
      ]
     },
     "execution_count": 28,
     "metadata": {},
     "output_type": "execute_result"
    }
   ],
   "source": [
    "clf = DecisionTreeClassifier()\n",
    "clf.fit(X_train, y_train)"
   ]
  },
  {
   "cell_type": "code",
   "execution_count": 29,
   "metadata": {},
   "outputs": [
    {
     "name": "stdout",
     "output_type": "stream",
     "text": [
      "             precision    recall  f1-score   support\n",
      "\n",
      "          0       1.00      1.00      1.00       129\n",
      "          1       1.00      1.00      1.00       327\n",
      "\n",
      "avg / total       1.00      1.00      1.00       456\n",
      "\n",
      "Accuracy on training set:  1.0\n",
      "             precision    recall  f1-score   support\n",
      "\n",
      "          0       0.37      0.33      0.35        39\n",
      "          1       0.67      0.71      0.69        75\n",
      "\n",
      "avg / total       0.57      0.58      0.57       114\n",
      "\n",
      "Accuracy on test set:  0.5789473684210527\n"
     ]
    }
   ],
   "source": [
    "y_train_preds = clf.predict(X_train)\n",
    "print(classification_report(y_train_preds, y_train))\n",
    "print(\"Accuracy on training set: \", accuracy_score(y_train_preds, y_train))\n",
    "y_test_preds = clf.predict(X_test)\n",
    "print(classification_report(y_test_preds, y_test))\n",
    "print(\"Accuracy on test set: \", accuracy_score(y_test_preds, y_test)) # The tree is overfitting"
   ]
  },
  {
   "cell_type": "markdown",
   "metadata": {},
   "source": [
    "#### Visualizing the decision tree"
   ]
  },
  {
   "cell_type": "code",
   "execution_count": 30,
   "metadata": {
    "scrolled": true
   },
   "outputs": [
    {
     "name": "stdout",
     "output_type": "stream",
     "text": [
      "Requirement already satisfied: pydotplus in /srv/app/venv/lib/python3.6/site-packages\r\n",
      "Requirement already satisfied: pyparsing>=2.0.1 in /srv/app/venv/lib/python3.6/site-packages (from pydotplus)\r\n"
     ]
    }
   ],
   "source": [
    "!pip install pydotplus"
   ]
  },
  {
   "cell_type": "code",
   "execution_count": 31,
   "metadata": {},
   "outputs": [
    {
     "data": {
      "image/png": "[encoded data removed]",
      "text/plain": [
       "<Figure size 1152x360 with 1 Axes>"
      ]
     },
     "metadata": {
      "needs_background": "light"
     },
     "output_type": "display_data"
    }
   ],
   "source": [
    "plt.figure(figsize = (16,5))\n",
    "importances = clf.feature_importances_\n",
    "x= [i for i in range(11)]\n",
    "plt.xticks(x, list(features.columns))\n",
    "plt.bar(x, importances)\n",
    "plt.show()"
   ]
  },
  {
   "cell_type": "code",
   "execution_count": 33,
   "metadata": {},
   "outputs": [],
   "source": [
    "# USE THIS CODE TO GET VISUALIZATION OF TREE STRUCTURE USING GRAPHVIZ (YOU NEED TO HAVE GRAPHVIZ INSTALLED FOR THIS TO WORK)\n",
    "\n",
    "# import graphviz\n",
    "# import os\n",
    "# os.environ[\"PATH\"] += os.pathsep + # enter folder where graphviz is installed\n",
    "\n",
    "# from sklearn.externals.six import StringIO  \n",
    "# from IPython.display import Image  \n",
    "# from sklearn.tree import export_graphviz\n",
    "# import pydotplus\n",
    "# dot_data = StringIO()\n",
    "# export_graphviz(tree, out_file=dot_data,  \n",
    "#                 filled=True, rounded=True,\n",
    "#                 special_characters=True)\n",
    "# graph = pydotplus.graph_from_dot_data(dot_data.getvalue())  \n",
    "# Image(graph.create_png())\n",
    "\n",
    "# !dot -Tpng tree.dot > output.png\n"
   ]
  },
  {
   "cell_type": "code",
   "execution_count": 35,
   "metadata": {},
   "outputs": [],
   "source": [
    "from sklearn.metrics import fbeta_score, accuracy_score\n",
    "def train_predict(learner, sample_size, X_train, y_train, X_test, y_test): \n",
    "    results = {}\n",
    "\n",
    "    start = time() # Get start time\n",
    "    learner.fit(X_train[:sample_size], y_train[:sample_size])\n",
    "    end = time() # Get end time\n",
    "    \n",
    "    results['train_time'] = end - start\n",
    "        \n",
    "    start = time() \n",
    "    predictions_test = learner.predict(X_test)# predictions on test set\n",
    "    predictions_train = learner.predict(X_train[:200])# predictions on first 200 elements of training set\n",
    "    end = time()\n",
    "    \n",
    "    results['pred_time'] = end - start\n",
    "            \n",
    "    results['acc_train'] = accuracy_score(y_train[:200],predictions_train)\n",
    "        \n",
    "    results['acc_test'] = accuracy_score(y_test,predictions_test)\n",
    "    \n",
    "    results['f_train'] = fbeta_score(y_train[:200],predictions_train,beta=2)\n",
    "        \n",
    "    results['f_test'] = fbeta_score(y_test,predictions_test,beta=2)\n",
    "       \n",
    "    print (\"{} trained on {} samples.\".format(learner.__class__.__name__, sample_size))\n",
    "        \n",
    "    return results"
   ]
  },
  {
   "cell_type": "markdown",
   "metadata": {},
   "source": [
    "### Supervised Learning Approach\n",
    "Thereafter, we will use these supervised learning approaches for this problem:\n",
    "1. Logistic Classification: Since the outcome is binary and we have a reasonable number of examples at our disposal compared to number of features, this approach seems suitable. At the core of this method is a logistic or sigmoid function that quantifies the difference between each prediction and its corresponding true value.                                                                  \n",
    "2. Support Vector Machine:   SVM aims to find an optimal hyperplane that separates the data into different classes.                                  \n",
    "3. Random Forest Classifier: It comes under the category of ensemble methods. It employs ‘bagging’ method to draw a random subset from the data, and train a Decision Tree on that.                                                           \n",
    "\n",
    "4. k Nearest Neighbors: It uses the k closest neighbors of a data point to determine which class should that data point belong to.\n"
   ]
  },
  {
   "cell_type": "code",
   "execution_count": null,
   "metadata": {},
   "outputs": [],
   "source": [
    "from sklearn.linear_model import LogisticRegression\n",
    "from sklearn.svm import SVC\n",
    "from sklearn.ensemble import RandomForestClassifier\n",
    "from sklearn.neighbors import KNeighborsClassifier\n",
    "# TODO: Initialize the three models\n",
    "\n",
    "clf_base = LogisticRegression(random_state=7)\n",
    "clf_A = RandomForestClassifier(random_state=7)\n",
    "clf_B = SVC(random_state=7)\n",
    "clf_C = KNeighborsClassifier()\n",
    "\n",
    "# TODO: Calculate the number of samples for 20%, 50%, and 100% of the training data\n",
    "samples_20 = int(len(X_train) * 0.2)\n",
    "samples_50 = int(len(X_train) * 0.5)\n",
    "samples_100 = int(len(X_train) )\n",
    "result_1={}\n",
    "result_1=train_predict(clf_base, samples, X_train, y_train, X_test, y_test)\n",
    "print ('Performance metrics for benchmark model (Logistic regression):')\n",
    "print ('Accuracy score on training subset:%.2f'%result_1['acc_train'])\n",
    "print ('Accuracy score on test subset:%.2f'%result_1['acc_test'])\n",
    "print ('F-score on training subset:%.2f'%result_1['f_train'])\n",
    "print ('F-score on test subset:%.2f'%result_1['f_test'])\n",
    "# Collect results on the learners\n",
    "results = {}\n",
    "for clf in [clf_A, clf_B, clf_C]:\n",
    "    clf_name = clf.__class__.__name__\n",
    "    results[clf_name] = {}\n",
    "    for i, samples in enumerate([samples_20, samples_50, samples_100]):\n",
    "        results[clf_name][i] = train_predict(clf, samples, X_train, y_train, X_test, y_test)\n",
    "\n",
    "#vs.evaluate(results, accuracy, fscore)"
   ]
  },
  {
   "cell_type": "markdown",
   "metadata": {},
   "source": [
    "### ROC Curve\n",
    "\n",
    "An additional metric called as Receiver Operator Characteristics(ROC) curve will be used. It plots the curve of True Positive Rate vs the False positive Rate, with a greater area under the curve indicating a better True Positive Rate for the same False Positive Rate. This can be helpful in this case as simply knowing the number of correct predictions may not suffice.\n",
    "  \n",
    "\n"
   ]
  },
  {
   "cell_type": "code",
   "execution_count": 53,
   "metadata": {},
   "outputs": [
    {
     "name": "stdout",
     "output_type": "stream",
     "text": [
      "For classifier RandomForestClassifier, ROC score is 0.659091\n"
     ]
    },
    {
     "data": {
      "image/png": "[encoded data removed]",
      "text/plain": [
       "<matplotlib.figure.Figure at 0x12568550>"
      ]
     },
     "metadata": {},
     "output_type": "display_data"
    },
    {
     "name": "stdout",
     "output_type": "stream",
     "text": [
      "For classifier SVC, ROC score is 0.500000\n"
     ]
    },
    {
     "data": {
      "image/png": "[encoded data removed]",
      "text/plain": [
       "<matplotlib.figure.Figure at 0x1236c668>"
      ]
     },
     "metadata": {},
     "output_type": "display_data"
    },
    {
     "name": "stdout",
     "output_type": "stream",
     "text": [
      "For classifier KNeighborsClassifier, ROC score is 0.523539\n"
     ]
    },
    {
     "data": {
      "image/png": "[encoded data removed]",
      "text/plain": [
       "<matplotlib.figure.Figure at 0xf6a5240>"
      ]
     },
     "metadata": {},
     "output_type": "display_data"
    }
   ],
   "source": [
    "#plotting ROC curve\n",
    "\n",
    "for clf in [clf_A, clf_B, clf_C]:\n",
    "    clf_name = clf.__class__.__name__\n",
    "    pred=clf.predict(X_test)\n",
    "    fpr, tpr, _ = roc_curve(y_test, pred)\n",
    "    roc_auc = auc(fpr, tpr)\n",
    "    print \"For classifier %s, ROC score is %f\"%(clf_name,roc_auc)\n",
    "    plt.figure()\n",
    "    lw = 2\n",
    "    plt.plot(fpr, tpr, color='darkorange',lw=lw, label='ROC curve (area = %0.2f)' % roc_auc)\n",
    "    plt.plot([0, 1], [0, 1], color='navy', lw=lw, linestyle='--')\n",
    "    plt.xlim([0.0, 1.0])\n",
    "    plt.ylim([0.0, 1.05])\n",
    "    plt.xlabel('False Positive Rate')\n",
    "    plt.ylabel('True Positive Rate')\n",
    "    plt.title('Receiver operating characteristic')\n",
    "    plt.legend(loc=\"lower right\")\n",
    "    plt.show()\n",
    "#fpr, tpr, thresholds = roc_curve(y, scores, pos_label=2)"
   ]
  },
  {
   "cell_type": "markdown",
   "metadata": {},
   "source": [
    "### Fine Tuning the Models\n",
    "Now we will use the grid search method to see if we can improve the performance of various models with different values for the given hyperparameters. \n"
   ]
  },
  {
   "cell_type": "code",
   "execution_count": 65,
   "metadata": {},
   "outputs": [
    {
     "name": "stdout",
     "output_type": "stream",
     "text": [
      "For classifier RandomForestClassifier:\n",
      "Unoptimized model\n",
      "------\n",
      "Accuracy score on testing data: 0.7414\n",
      "F-score on testing data: 0.8219\n",
      "\n",
      "Optimized Model\n",
      "------\n",
      "Final accuracy score on the testing data: 0.7500\n",
      "Final F-score on the testing data: 0.8686\n",
      "Best parameters:\n",
      "{'max_features': None, 'n_estimators': 15, 'oob_score': False, 'max_depth': 3}\n",
      "For classifier RandomForestClassifier, ROC score is 0.603896\n"
     ]
    },
    {
     "data": {
      "image/png": "[encoded data removed]",
      "text/plain": [
       "<matplotlib.figure.Figure at 0xf73a278>"
      ]
     },
     "metadata": {},
     "output_type": "display_data"
    },
    {
     "name": "stdout",
     "output_type": "stream",
     "text": [
      "\n",
      "---------------------------------X----------------------------\n",
      "\n",
      "For classifier SVC:\n",
      "Unoptimized model\n",
      "------\n",
      "Accuracy score on testing data: 0.7586\n",
      "F-score on testing data: 0.9402\n",
      "\n",
      "Optimized Model\n",
      "------\n",
      "Final accuracy score on the testing data: 0.7586\n",
      "Final F-score on the testing data: 0.9402\n",
      "Best parameters:\n",
      "{'kernel': 'poly', 'C': 0.001}\n",
      "For classifier SVC, ROC score is 0.500000\n"
     ]
    },
    {
     "data": {
      "image/png": "[encoded data removed]",
      "text/plain": [
       "<matplotlib.figure.Figure at 0xf751710>"
      ]
     },
     "metadata": {},
     "output_type": "display_data"
    },
    {
     "name": "stdout",
     "output_type": "stream",
     "text": [
      "\n",
      "---------------------------------X----------------------------\n",
      "\n",
      "For classifier KNeighborsClassifier:\n",
      "Unoptimized model\n",
      "------\n",
      "Accuracy score on testing data: 0.6466\n",
      "F-score on testing data: 0.7631\n",
      "\n",
      "Optimized Model\n",
      "------\n",
      "Final accuracy score on the testing data: 0.6552\n",
      "Final F-score on the testing data: 0.7960\n",
      "Best parameters:\n",
      "{'n_neighbors': 15, 'weights': 'uniform'}\n",
      "For classifier KNeighborsClassifier, ROC score is 0.492695\n"
     ]
    },
    {
     "data": {
      "image/png": "[encoded data removed]",
      "text/plain": [
       "<matplotlib.figure.Figure at 0x12358400>"
      ]
     },
     "metadata": {},
     "output_type": "display_data"
    },
    {
     "name": "stdout",
     "output_type": "stream",
     "text": [
      "\n",
      "---------------------------------X----------------------------\n",
      "\n"
     ]
    }
   ],
   "source": [
    "\n",
    "from sklearn.metrics import roc_curve,auc\n",
    "from sklearn.grid_search import GridSearchCV\n",
    "from sklearn.metrics import make_scorer\n",
    "# TODO: Initialize the classifier\n",
    "i=0\n",
    "for clf in [clf_A, clf_B, clf_C]:\n",
    "    clf_name = clf.__class__.__name__\n",
    "    print 'For classifier %s:'%(clf_name)\n",
    "    if i==0: #RandomForest\n",
    "        parameters = {'max_features':['auto',None],# 'auto' option uses square root of number of features\n",
    "                     'oob_score':[False,True],# setting it to 'True' saves the generalization error\n",
    "                     'max_depth':[3,10,15],# depth of tree\n",
    "                     'n_estimators':[3,10,15]}# number of trees\n",
    "    elif i==1: #SVM\n",
    "        parameters={'kernel':['poly','rbf','linear'],# different ways to separate data pts by a hyperplane\n",
    "                    'C':[0.001,1,1000]} # weight of penalty assigned to error\n",
    "    elif i==2: #kNearestClassifier\n",
    "        parameters={'n_neighbors':[5,10,15],# number of neighbors\n",
    "                    'weights':['uniform','distance']}# distance means weights are inversely proportional to distance\n",
    "\n",
    "    scorer = make_scorer(fbeta_score, beta=2)\n",
    "    grid_obj = GridSearchCV(clf,parameters,scoring=scorer)\n",
    "    grid_fit = grid_obj.fit(X_train,y_train)\n",
    "    best_clf = grid_fit.best_estimator_\n",
    "\n",
    "    predictions = (clf.fit(X_train, y_train)).predict(X_test)\n",
    "    best_predictions = best_clf.predict(X_test)\n",
    "    # Report the before-and-afterscores\n",
    "    print \"Unoptimized model\\n------\"\n",
    "    print \"Accuracy score on testing data: {:.4f}\".format(accuracy_score(y_test, predictions))\n",
    "    print \"F-score on testing data: {:.4f}\".format(fbeta_score(y_test, predictions, beta = 2))\n",
    "    print \"\\nOptimized Model\\n------\"\n",
    "    print \"Final accuracy score on the testing data: {:.4f}\".format(accuracy_score(y_test, best_predictions))\n",
    "    print \"Final F-score on the testing data: {:.4f}\".format(fbeta_score(y_test, best_predictions, beta = 2))\n",
    "    print \"Best parameters:\"\n",
    "    print grid_fit.best_params_\n",
    "    fpr, tpr, _ = roc_curve(y_test, best_predictions)\n",
    "    roc_auc = auc(fpr, tpr)\n",
    "    print \"For classifier %s, ROC score is %f\"%(clf_name,roc_auc)\n",
    "    plt.figure()\n",
    "    lw = 2\n",
    "    plt.plot(fpr, tpr, color='darkorange',lw=lw, label='ROC curve (area = %0.2f)' % roc_auc)\n",
    "    plt.plot([0, 1], [0, 1], color='navy', lw=lw, linestyle='--')\n",
    "    plt.xlim([0.0, 1.0])\n",
    "    plt.ylim([0.0, 1.05])\n",
    "    plt.xlabel('False Positive Rate')\n",
    "    plt.ylabel('True Positive Rate')\n",
    "    plt.title('Receiver operating characteristic')\n",
    "    plt.legend(loc=\"lower right\")\n",
    "    plt.show()\n",
    "    print \"\\n---------------------------------X----------------------------\\n\"\n",
    "    i+=1"
   ]
  },
  {
   "cell_type": "markdown",
   "metadata": {},
   "source": [
    "### Extracting important features\n",
    "From a medical perspective, it may be important to know which features are most influential in determining whether a person has a disease or not. Also, in future, it may be possible that more examples are collected for this dataset, and we may want to use only the k best features for this dataset for classification purpose. Keeping this in mind, we will use the RandomForestClassifier to extract the features of greatest importance. "
   ]
  },
  {
   "cell_type": "code",
   "execution_count": 16,
   "metadata": {},
   "outputs": [
    {
     "data": {
      "image/png": "[encoded data removed]",
      "text/plain": [
       "<matplotlib.figure.Figure at 0xc256be0>"
      ]
     },
     "metadata": {},
     "output_type": "display_data"
    }
   ],
   "source": [
    "clf_new=clf_A.fit(X_train,y_train)#clf_A is RandomForestClassifier\n",
    "im_features = clf_new.feature_importances_\n",
    "vs.feature_plot(im_features, X_train, y_train)"
   ]
  },
  {
   "cell_type": "code",
   "execution_count": 20,
   "metadata": {},
   "outputs": [
    {
     "name": "stdout",
     "output_type": "stream",
     "text": [
      "Final Model trained on full data\n",
      "------\n",
      "Accuracy on testing data: 0.7414\n",
      "F-score on testing data: 0.8333\n",
      "\n",
      "Final Model trained on reduced data\n",
      "------\n",
      "Accuracy on testing data: 0.6897\n",
      "F-score on testing data: 0.8053\n"
     ]
    }
   ],
   "source": [
    "from sklearn.base import clone\n",
    "\n",
    "X_train_reduced = X_train[X_train.columns.values[(np.argsort(importances)[::-1])[:5]]]\n",
    "X_test_reduced = X_test[X_test.columns.values[(np.argsort(importances)[::-1])[:5]]]\n",
    "\n",
    "clf = (clone(clf_A)).fit(X_train_reduced, y_train)#seeing how using only 5 best features affects RandomForestClassifier\n",
    "predictions=clf_A.predict(X_test)\n",
    "\n",
    "# Make new predictions\n",
    "reduced_predictions = clf.predict(X_test_reduced)\n",
    "\n",
    "# Report scores from Random Forest using both versions of data\n",
    "print \"Final Model trained on full data\\n------\"\n",
    "print \"Accuracy on testing data: {:.4f}\".format(accuracy_score(y_test, predictions))\n",
    "print \"F-score on testing data: {:.4f}\".format(fbeta_score(y_test, predictions, beta = 0.5))\n",
    "print \"\\nFinal Model trained on reduced data\\n------\"\n",
    "print \"Accuracy on testing data: {:.4f}\".format(accuracy_score(y_test, reduced_predictions))\n",
    "print \"F-score on testing data: {:.4f}\".format(fbeta_score(y_test, reduced_predictions, beta = 0.5))"
   ]
  },
  {
   "cell_type": "markdown",
   "metadata": {},
   "source": [
    "### Results of feature reduction\n",
    "So,we see that 'Total Proteins' is the most important feature, although not by a significant margin. Using only 5 most important features leads to a reduction in accuracy by around 5% and F-score by around 3%. Maybe in future\n",
    "if number of data points is very large and we are willing to save some training time at the cost of accuracy, we can use this method.  "
   ]
  },
  {
   "cell_type": "markdown",
   "metadata": {},
   "source": [
    "### Conclusion-Final Model Evaluation\n",
    "As the results show, it is difficult to arrive at a clear-cut answer for the best performing model among SVM and Random Forest. While SVM shows better result in terms of F-beta score (0.94), its area under the ROC curve is surprisingly low. Random Forest shows a decent enough F-beta score (0.87) and its area under ROC curve is 0.6. "
   ]
  },
  {
   "cell_type": "code",
   "execution_count": null,
   "metadata": {
    "collapsed": true
   },
   "outputs": [],
   "source": []
  }
 ],
 "metadata": {
  "anaconda-cloud": {},
  "kernelspec": {
   "display_name": "Python 3",
   "language": "python",
   "name": "python3"
  },
  "language_info": {
   "codemirror_mode": {
    "name": "ipython",
    "version": 3
   },
   "file_extension": ".py",
   "mimetype": "text/x-python",
   "name": "python",
   "nbconvert_exporter": "python",
   "pygments_lexer": "ipython3",
   "version": "3.6.7"
  }
 },
 "nbformat": 4,
 "nbformat_minor": 1
}
